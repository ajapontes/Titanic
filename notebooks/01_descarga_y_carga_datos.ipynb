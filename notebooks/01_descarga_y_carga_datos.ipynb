{
 "cells": [
  {
   "cell_type": "markdown",
   "id": "119eb646",
   "metadata": {},
   "source": [
    "# 📦 Titanic - 01: Descarga y carga de datos desde Kaggle\n",
    "\n",
    "Este notebook descarga los archivos de la competencia [Titanic: Machine Learning from Disaster](https://www.kaggle.com/competitions/titanic/) y los carga para su posterior análisis.\n",
    "\n",
    "---\n",
    "\n",
    "✅ Requisitos previos:\n",
    "- Haber colocado el archivo `kaggle.json` en el directorio raíz del proyecto.\n",
    "- Tener instalada la librería `kaggle`.\n",
    "\n",
    "---\n"
   ]
  },
  {
   "cell_type": "code",
   "execution_count": null,
   "id": "a1806670",
   "metadata": {
    "vscode": {
     "languageId": "plaintext"
    }
   },
   "outputs": [],
   "source": [
    "import os\n",
    "\n",
    "ruta_data = \"../data\"\n",
    "os.makedirs(ruta_data, exist_ok=True)\n",
    "\n",
    "# Descargar el dataset completo como .zip\n",
    "!kaggle competitions download -c titanic -p {ruta_data} --force\n"
   ]
  }
 ],
 "metadata": {
  "language_info": {
   "name": "python"
  }
 },
 "nbformat": 4,
 "nbformat_minor": 5
}
