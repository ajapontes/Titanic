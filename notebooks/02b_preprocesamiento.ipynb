{
 "cells": [
  {
   "cell_type": "markdown",
   "id": "df884ef1",
   "metadata": {},
   "source": [
    "# 🔧 02b - Preprocesamiento de Datos\n",
    "\n",
    "En este notebook se realizarán las transformaciones necesarias para preparar el dataset `train.csv` antes de entrenar modelos de clasificación.\n",
    "\n",
    "### Objetivos de esta etapa:\n",
    "\n",
    "- Imputar valores faltantes (`Age`, `Embarked`)\n",
    "- Codificar variables categóricas (`Sex`, `Embarked`, `Pclass`)\n",
    "- Transformar distribuciones sesgadas (`Fare`)\n",
    "- Generar nuevas variables (`FamilySize`, `IsAlone`, `Title`)\n",
    "- Guardar el dataset procesado para uso posterior\n",
    "\n",
    "---\n"
   ]
  },
  {
   "cell_type": "code",
   "execution_count": 1,
   "id": "5a704334",
   "metadata": {},
   "outputs": [
    {
     "data": {
      "application/vnd.microsoft.datawrangler.viewer.v0+json": {
       "columns": [
        {
         "name": "index",
         "rawType": "int64",
         "type": "integer"
        },
        {
         "name": "PassengerId",
         "rawType": "int64",
         "type": "integer"
        },
        {
         "name": "Survived",
         "rawType": "int64",
         "type": "integer"
        },
        {
         "name": "Pclass",
         "rawType": "int64",
         "type": "integer"
        },
        {
         "name": "Name",
         "rawType": "object",
         "type": "string"
        },
        {
         "name": "Sex",
         "rawType": "object",
         "type": "string"
        },
        {
         "name": "Age",
         "rawType": "float64",
         "type": "float"
        },
        {
         "name": "SibSp",
         "rawType": "int64",
         "type": "integer"
        },
        {
         "name": "Parch",
         "rawType": "int64",
         "type": "integer"
        },
        {
         "name": "Ticket",
         "rawType": "object",
         "type": "string"
        },
        {
         "name": "Fare",
         "rawType": "float64",
         "type": "float"
        },
        {
         "name": "Cabin",
         "rawType": "object",
         "type": "unknown"
        },
        {
         "name": "Embarked",
         "rawType": "object",
         "type": "string"
        }
       ],
       "ref": "4bb910ec-a608-48b0-84d0-fca0d90b905c",
       "rows": [
        [
         "0",
         "1",
         "0",
         "3",
         "Braund, Mr. Owen Harris",
         "male",
         "22.0",
         "1",
         "0",
         "A/5 21171",
         "7.25",
         null,
         "S"
        ],
        [
         "1",
         "2",
         "1",
         "1",
         "Cumings, Mrs. John Bradley (Florence Briggs Thayer)",
         "female",
         "38.0",
         "1",
         "0",
         "PC 17599",
         "71.2833",
         "C85",
         "C"
        ],
        [
         "2",
         "3",
         "1",
         "3",
         "Heikkinen, Miss. Laina",
         "female",
         "26.0",
         "0",
         "0",
         "STON/O2. 3101282",
         "7.925",
         null,
         "S"
        ],
        [
         "3",
         "4",
         "1",
         "1",
         "Futrelle, Mrs. Jacques Heath (Lily May Peel)",
         "female",
         "35.0",
         "1",
         "0",
         "113803",
         "53.1",
         "C123",
         "S"
        ],
        [
         "4",
         "5",
         "0",
         "3",
         "Allen, Mr. William Henry",
         "male",
         "35.0",
         "0",
         "0",
         "373450",
         "8.05",
         null,
         "S"
        ]
       ],
       "shape": {
        "columns": 12,
        "rows": 5
       }
      },
      "text/html": [
       "<div>\n",
       "<style scoped>\n",
       "    .dataframe tbody tr th:only-of-type {\n",
       "        vertical-align: middle;\n",
       "    }\n",
       "\n",
       "    .dataframe tbody tr th {\n",
       "        vertical-align: top;\n",
       "    }\n",
       "\n",
       "    .dataframe thead th {\n",
       "        text-align: right;\n",
       "    }\n",
       "</style>\n",
       "<table border=\"1\" class=\"dataframe\">\n",
       "  <thead>\n",
       "    <tr style=\"text-align: right;\">\n",
       "      <th></th>\n",
       "      <th>PassengerId</th>\n",
       "      <th>Survived</th>\n",
       "      <th>Pclass</th>\n",
       "      <th>Name</th>\n",
       "      <th>Sex</th>\n",
       "      <th>Age</th>\n",
       "      <th>SibSp</th>\n",
       "      <th>Parch</th>\n",
       "      <th>Ticket</th>\n",
       "      <th>Fare</th>\n",
       "      <th>Cabin</th>\n",
       "      <th>Embarked</th>\n",
       "    </tr>\n",
       "  </thead>\n",
       "  <tbody>\n",
       "    <tr>\n",
       "      <th>0</th>\n",
       "      <td>1</td>\n",
       "      <td>0</td>\n",
       "      <td>3</td>\n",
       "      <td>Braund, Mr. Owen Harris</td>\n",
       "      <td>male</td>\n",
       "      <td>22.0</td>\n",
       "      <td>1</td>\n",
       "      <td>0</td>\n",
       "      <td>A/5 21171</td>\n",
       "      <td>7.2500</td>\n",
       "      <td>NaN</td>\n",
       "      <td>S</td>\n",
       "    </tr>\n",
       "    <tr>\n",
       "      <th>1</th>\n",
       "      <td>2</td>\n",
       "      <td>1</td>\n",
       "      <td>1</td>\n",
       "      <td>Cumings, Mrs. John Bradley (Florence Briggs Th...</td>\n",
       "      <td>female</td>\n",
       "      <td>38.0</td>\n",
       "      <td>1</td>\n",
       "      <td>0</td>\n",
       "      <td>PC 17599</td>\n",
       "      <td>71.2833</td>\n",
       "      <td>C85</td>\n",
       "      <td>C</td>\n",
       "    </tr>\n",
       "    <tr>\n",
       "      <th>2</th>\n",
       "      <td>3</td>\n",
       "      <td>1</td>\n",
       "      <td>3</td>\n",
       "      <td>Heikkinen, Miss. Laina</td>\n",
       "      <td>female</td>\n",
       "      <td>26.0</td>\n",
       "      <td>0</td>\n",
       "      <td>0</td>\n",
       "      <td>STON/O2. 3101282</td>\n",
       "      <td>7.9250</td>\n",
       "      <td>NaN</td>\n",
       "      <td>S</td>\n",
       "    </tr>\n",
       "    <tr>\n",
       "      <th>3</th>\n",
       "      <td>4</td>\n",
       "      <td>1</td>\n",
       "      <td>1</td>\n",
       "      <td>Futrelle, Mrs. Jacques Heath (Lily May Peel)</td>\n",
       "      <td>female</td>\n",
       "      <td>35.0</td>\n",
       "      <td>1</td>\n",
       "      <td>0</td>\n",
       "      <td>113803</td>\n",
       "      <td>53.1000</td>\n",
       "      <td>C123</td>\n",
       "      <td>S</td>\n",
       "    </tr>\n",
       "    <tr>\n",
       "      <th>4</th>\n",
       "      <td>5</td>\n",
       "      <td>0</td>\n",
       "      <td>3</td>\n",
       "      <td>Allen, Mr. William Henry</td>\n",
       "      <td>male</td>\n",
       "      <td>35.0</td>\n",
       "      <td>0</td>\n",
       "      <td>0</td>\n",
       "      <td>373450</td>\n",
       "      <td>8.0500</td>\n",
       "      <td>NaN</td>\n",
       "      <td>S</td>\n",
       "    </tr>\n",
       "  </tbody>\n",
       "</table>\n",
       "</div>"
      ],
      "text/plain": [
       "   PassengerId  Survived  Pclass  \\\n",
       "0            1         0       3   \n",
       "1            2         1       1   \n",
       "2            3         1       3   \n",
       "3            4         1       1   \n",
       "4            5         0       3   \n",
       "\n",
       "                                                Name     Sex   Age  SibSp  \\\n",
       "0                            Braund, Mr. Owen Harris    male  22.0      1   \n",
       "1  Cumings, Mrs. John Bradley (Florence Briggs Th...  female  38.0      1   \n",
       "2                             Heikkinen, Miss. Laina  female  26.0      0   \n",
       "3       Futrelle, Mrs. Jacques Heath (Lily May Peel)  female  35.0      1   \n",
       "4                           Allen, Mr. William Henry    male  35.0      0   \n",
       "\n",
       "   Parch            Ticket     Fare Cabin Embarked  \n",
       "0      0         A/5 21171   7.2500   NaN        S  \n",
       "1      0          PC 17599  71.2833   C85        C  \n",
       "2      0  STON/O2. 3101282   7.9250   NaN        S  \n",
       "3      0            113803  53.1000  C123        S  \n",
       "4      0            373450   8.0500   NaN        S  "
      ]
     },
     "execution_count": 1,
     "metadata": {},
     "output_type": "execute_result"
    }
   ],
   "source": [
    "# 📥 Cargar los datos originales para preprocesamiento\n",
    "\n",
    "import pandas as pd\n",
    "\n",
    "import warnings\n",
    "warnings.filterwarnings('ignore')\n",
    " \n",
    "# Ruta relativa al archivo original\n",
    "ruta = \"../data/train.csv\"\n",
    "df = pd.read_csv(ruta)\n",
    "\n",
    "# Mostrar las primeras filas\n",
    "df.head()\n"
   ]
  },
  {
   "cell_type": "markdown",
   "id": "4394c8a9",
   "metadata": {},
   "source": [
    "## 🧼 Imputación de valores faltantes\n",
    "\n",
    "En esta celda se imputan los valores nulos de las siguientes columnas:\n",
    "\n",
    "- `Age`: se imputará usando la mediana agrupada por `Pclass` y `Sex`, ya que hay diferencias significativas entre grupos.\n",
    "- `Embarked`: solo tiene 2 valores faltantes, se imputará con la moda.\n",
    "- `Cabin`: tiene más del 77% de valores nulos. En lugar de eliminarla completamente, se creará una variable binaria `HasCabin`.\n",
    "\n",
    "---\n"
   ]
  },
  {
   "cell_type": "code",
   "execution_count": 2,
   "id": "e90ecd46",
   "metadata": {},
   "outputs": [
    {
     "data": {
      "application/vnd.microsoft.datawrangler.viewer.v0+json": {
       "columns": [
        {
         "name": "index",
         "rawType": "object",
         "type": "string"
        },
        {
         "name": "0",
         "rawType": "int64",
         "type": "integer"
        }
       ],
       "ref": "bb09469c-646e-4cc8-bc0c-d0b96296376c",
       "rows": [
        [
         "PassengerId",
         "0"
        ],
        [
         "Survived",
         "0"
        ],
        [
         "Pclass",
         "0"
        ],
        [
         "Name",
         "0"
        ],
        [
         "Sex",
         "0"
        ],
        [
         "Age",
         "0"
        ],
        [
         "SibSp",
         "0"
        ],
        [
         "Parch",
         "0"
        ],
        [
         "Ticket",
         "0"
        ],
        [
         "Fare",
         "0"
        ],
        [
         "Cabin",
         "687"
        ],
        [
         "Embarked",
         "0"
        ],
        [
         "HasCabin",
         "0"
        ]
       ],
       "shape": {
        "columns": 1,
        "rows": 13
       }
      },
      "text/plain": [
       "PassengerId      0\n",
       "Survived         0\n",
       "Pclass           0\n",
       "Name             0\n",
       "Sex              0\n",
       "Age              0\n",
       "SibSp            0\n",
       "Parch            0\n",
       "Ticket           0\n",
       "Fare             0\n",
       "Cabin          687\n",
       "Embarked         0\n",
       "HasCabin         0\n",
       "dtype: int64"
      ]
     },
     "execution_count": 2,
     "metadata": {},
     "output_type": "execute_result"
    }
   ],
   "source": [
    "# 🧼 Imputación de valores nulos en 'Embarked', 'Age' y creación de 'HasCabin'\n",
    "\n",
    "# Imputar 'Embarked' con la moda (valor más frecuente)\n",
    "embarked_moda = df['Embarked'].mode()[0]\n",
    "df['Embarked'].fillna(embarked_moda, inplace=True)\n",
    "\n",
    "# Crear nueva columna 'HasCabin': 1 si tiene cabina, 0 si no\n",
    "df['HasCabin'] = df['Cabin'].notnull().astype(int)\n",
    "\n",
    "# Imputar 'Age' con la mediana por grupo de 'Pclass' y 'Sex'\n",
    "df['Age'] = df.groupby(['Pclass', 'Sex'])['Age'].transform(lambda x: x.fillna(x.median()))\n",
    "\n",
    "# Verificar que no queden nulos\n",
    "df.isnull().sum()\n"
   ]
  },
  {
   "cell_type": "markdown",
   "id": "f9e9ba67",
   "metadata": {},
   "source": [
    "---\n",
    "\n",
    "✅ **Imputación completada correctamente**\n",
    "\n",
    "- La columna `Embarked` fue imputada con la moda: `S`.\n",
    "- La columna `Age` fue imputada con la mediana agrupada por `Pclass` y `Sex`.\n",
    "- Se creó la nueva variable binaria `HasCabin` a partir de la columna `Cabin`.\n",
    "- No quedan valores nulos en el dataset. ✔️\n",
    "\n",
    "---\n"
   ]
  },
  {
   "cell_type": "markdown",
   "id": "ced46f13",
   "metadata": {},
   "source": [
    "## 🧠 Extracción del título desde la columna `Name`\n",
    "\n",
    "La columna `Name` contiene información útil que puede ser aprovechada si se extrae el **título honorífico** (como `Mr.`, `Miss.`, `Dr.`, etc.). Estos títulos están correlacionados con edad, sexo, estatus social y pueden mejorar la capacidad predictiva del modelo.\n",
    "\n",
    "Ejemplo de valor original:\n"
   ]
  },
  {
   "cell_type": "code",
   "execution_count": 3,
   "id": "c993f13a",
   "metadata": {},
   "outputs": [
    {
     "data": {
      "application/vnd.microsoft.datawrangler.viewer.v0+json": {
       "columns": [
        {
         "name": "Title",
         "rawType": "object",
         "type": "string"
        },
        {
         "name": "count",
         "rawType": "int64",
         "type": "integer"
        }
       ],
       "ref": "e803dbb0-b643-46ea-afef-66c0f73a4cf1",
       "rows": [
        [
         "Mr",
         "517"
        ],
        [
         "Miss",
         "185"
        ],
        [
         "Mrs",
         "126"
        ],
        [
         "Master",
         "40"
        ],
        [
         "Rare",
         "22"
        ],
        [
         "the Countess",
         "1"
        ]
       ],
       "shape": {
        "columns": 1,
        "rows": 6
       }
      },
      "text/plain": [
       "Title\n",
       "Mr              517\n",
       "Miss            185\n",
       "Mrs             126\n",
       "Master           40\n",
       "Rare             22\n",
       "the Countess      1\n",
       "Name: count, dtype: int64"
      ]
     },
     "execution_count": 3,
     "metadata": {},
     "output_type": "execute_result"
    }
   ],
   "source": [
    "# 🧠 Extraer título del nombre\n",
    "df['Title'] = df['Name'].str.extract(r',\\s*([^\\.]*)\\s*\\.', expand=False)\n",
    "\n",
    "# Reemplazar variaciones y títulos poco comunes\n",
    "titulo_mapa = {\n",
    "    'Mlle': 'Miss',\n",
    "    'Ms': 'Miss',\n",
    "    'Mme': 'Mrs',\n",
    "    'Lady': 'Rare', 'Countess': 'Rare', 'Capt': 'Rare',\n",
    "    'Col': 'Rare', 'Don': 'Rare', 'Dr': 'Rare', 'Major': 'Rare',\n",
    "    'Rev': 'Rare', 'Sir': 'Rare', 'Jonkheer': 'Rare', 'Dona': 'Rare'\n",
    "}\n",
    "df['Title'] = df['Title'].replace(titulo_mapa)\n",
    "\n",
    "# Ver los títulos resultantes y su frecuencia\n",
    "df['Title'].value_counts()\n"
   ]
  },
  {
   "cell_type": "markdown",
   "id": "251e6868",
   "metadata": {},
   "source": [
    "---\n",
    "\n",
    "## 🔁 Ajuste final de títulos raros\n",
    "\n",
    "Se detectó que el título `'the Countess'` quedó fuera de la agrupación `Rare`.  \n",
    "Vamos a actualizar el diccionario y reagrupar todos los títulos poco frecuentes bajo `'Rare'` para mantener coherencia y evitar variables con muy baja frecuencia que podrían afectar el modelo.\n",
    "\n",
    "---\n"
   ]
  },
  {
   "cell_type": "code",
   "execution_count": 4,
   "id": "1c5fbf99",
   "metadata": {},
   "outputs": [
    {
     "data": {
      "application/vnd.microsoft.datawrangler.viewer.v0+json": {
       "columns": [
        {
         "name": "Title",
         "rawType": "object",
         "type": "string"
        },
        {
         "name": "count",
         "rawType": "int64",
         "type": "integer"
        }
       ],
       "ref": "b4a078ba-890a-4597-b190-c1666a00b8cf",
       "rows": [
        [
         "Mr",
         "517"
        ],
        [
         "Miss",
         "185"
        ],
        [
         "Mrs",
         "126"
        ],
        [
         "Master",
         "40"
        ],
        [
         "Rare",
         "23"
        ]
       ],
       "shape": {
        "columns": 1,
        "rows": 5
       }
      },
      "text/plain": [
       "Title\n",
       "Mr        517\n",
       "Miss      185\n",
       "Mrs       126\n",
       "Master     40\n",
       "Rare       23\n",
       "Name: count, dtype: int64"
      ]
     },
     "execution_count": 4,
     "metadata": {},
     "output_type": "execute_result"
    }
   ],
   "source": [
    "# 🔁 Reasignar títulos poco frecuentes, incluyendo 'the Countess'\n",
    "\n",
    "# Actualizar el mapeo\n",
    "titulo_mapa_actualizado = {\n",
    "    'Mlle': 'Miss',\n",
    "    'Ms': 'Miss',\n",
    "    'Mme': 'Mrs',\n",
    "    'Lady': 'Rare', 'Countess': 'Rare', 'Capt': 'Rare',\n",
    "    'Col': 'Rare', 'Don': 'Rare', 'Dr': 'Rare', 'Major': 'Rare',\n",
    "    'Rev': 'Rare', 'Sir': 'Rare', 'Jonkheer': 'Rare',\n",
    "    'Dona': 'Rare', 'the Countess': 'Rare'\n",
    "}\n",
    "\n",
    "# Aplicar el reemplazo nuevamente\n",
    "df['Title'] = df['Title'].replace(titulo_mapa_actualizado)\n",
    "\n",
    "# Verificación final\n",
    "df['Title'].value_counts()\n"
   ]
  },
  {
   "cell_type": "markdown",
   "id": "3da38d34",
   "metadata": {},
   "source": [
    "---\n",
    "\n",
    "## 🔠 Codificación de variables categóricas\n",
    "\n",
    "Vamos a convertir variables categóricas en representaciones numéricas, necesarias para alimentar algoritmos de machine learning. En este paso codificaremos:\n",
    "\n",
    "- `Sex`: binaria (`0=male`, `1=female`)\n",
    "- `Embarked`: con One-Hot Encoding (`S`, `C`, `Q`)\n",
    "- `Title`: con One-Hot Encoding (`Mr`, `Miss`, `Mrs`, `Master`, `Rare`)\n",
    "- `Pclass`: se tratará como ordinal (1, 2, 3)\n",
    "\n",
    "---\n"
   ]
  },
  {
   "cell_type": "code",
   "execution_count": 5,
   "id": "cbfcbc2a",
   "metadata": {},
   "outputs": [
    {
     "name": "stdout",
     "output_type": "stream",
     "text": [
      "Index(['PassengerId', 'Survived', 'Pclass', 'Name', 'Sex', 'Age', 'SibSp',\n",
      "       'Parch', 'Ticket', 'Fare', 'Cabin', 'HasCabin', 'Embarked_Q',\n",
      "       'Embarked_S', 'Title_Miss', 'Title_Mr', 'Title_Mrs', 'Title_Rare'],\n",
      "      dtype='object')\n"
     ]
    }
   ],
   "source": [
    "# 🔠 Codificación de variables categóricas\n",
    "\n",
    "# Codificar 'Sex' como variable binaria: 0 = male, 1 = female\n",
    "df['Sex'] = df['Sex'].map({'male': 0, 'female': 1})\n",
    "\n",
    "# One-hot encoding para 'Embarked' y 'Title'\n",
    "df = pd.get_dummies(df, columns=['Embarked', 'Title'], drop_first=True)\n",
    "\n",
    "# Verificación del resultado\n",
    "df.head()\n",
    "\n",
    "# Listar las columnas\n",
    "print(df.columns)\n"
   ]
  },
  {
   "cell_type": "markdown",
   "id": "bcaf05e3",
   "metadata": {},
   "source": [
    "---\n",
    "## La salida confirma que la codificación fue exitosa:\n",
    "\n",
    "- `Sex` → binaria (0/1)\n",
    "\n",
    "- `Embarked_Q` y `Embarked_S` → dummies (implícitamente Embarked_C como base)\n",
    "\n",
    "- `Title_*`→ dummies para todos los títulos relevantes (excepto Master, que es la base)\n",
    "\n",
    "---"
   ]
  },
  {
   "cell_type": "markdown",
   "id": "553a6b28",
   "metadata": {},
   "source": [
    "---\n",
    "\n",
    "## 🧪 Transformación de variables y generación de nuevas características\n",
    "\n",
    "En esta etapa realizamos las siguientes transformaciones:\n",
    "\n",
    "- `Fare_log`: transformación logarítmica para reducir el sesgo positivo de `Fare`.\n",
    "- `FamilySize`: suma de `SibSp` (hermanos/cónyuge) y `Parch` (padres/hijos), más 1 (el propio pasajero).\n",
    "- `IsAlone`: variable binaria que indica si el pasajero viaja solo (`1`) o con familia (`0`).\n",
    "\n",
    "Estas nuevas variables pueden mejorar el poder predictivo del modelo al capturar relaciones familiares y escalas más normalizadas.\n",
    "\n",
    "---\n"
   ]
  },
  {
   "cell_type": "code",
   "execution_count": 6,
   "id": "03d4f97f",
   "metadata": {},
   "outputs": [
    {
     "data": {
      "application/vnd.microsoft.datawrangler.viewer.v0+json": {
       "columns": [
        {
         "name": "index",
         "rawType": "int64",
         "type": "integer"
        },
        {
         "name": "Fare",
         "rawType": "float64",
         "type": "float"
        },
        {
         "name": "Fare_log",
         "rawType": "float64",
         "type": "float"
        },
        {
         "name": "FamilySize",
         "rawType": "int64",
         "type": "integer"
        },
        {
         "name": "IsAlone",
         "rawType": "int64",
         "type": "integer"
        }
       ],
       "ref": "ea2feddf-dd44-442f-82c8-2a52af2220d4",
       "rows": [
        [
         "0",
         "7.25",
         "2.1102132003465894",
         "2",
         "0"
        ],
        [
         "1",
         "71.2833",
         "4.2805931204649",
         "2",
         "0"
        ],
        [
         "2",
         "7.925",
         "2.188856327665703",
         "1",
         "1"
        ],
        [
         "3",
         "53.1",
         "3.9908341858524357",
         "2",
         "0"
        ],
        [
         "4",
         "8.05",
         "2.2027647577118348",
         "1",
         "1"
        ]
       ],
       "shape": {
        "columns": 4,
        "rows": 5
       }
      },
      "text/html": [
       "<div>\n",
       "<style scoped>\n",
       "    .dataframe tbody tr th:only-of-type {\n",
       "        vertical-align: middle;\n",
       "    }\n",
       "\n",
       "    .dataframe tbody tr th {\n",
       "        vertical-align: top;\n",
       "    }\n",
       "\n",
       "    .dataframe thead th {\n",
       "        text-align: right;\n",
       "    }\n",
       "</style>\n",
       "<table border=\"1\" class=\"dataframe\">\n",
       "  <thead>\n",
       "    <tr style=\"text-align: right;\">\n",
       "      <th></th>\n",
       "      <th>Fare</th>\n",
       "      <th>Fare_log</th>\n",
       "      <th>FamilySize</th>\n",
       "      <th>IsAlone</th>\n",
       "    </tr>\n",
       "  </thead>\n",
       "  <tbody>\n",
       "    <tr>\n",
       "      <th>0</th>\n",
       "      <td>7.2500</td>\n",
       "      <td>2.110213</td>\n",
       "      <td>2</td>\n",
       "      <td>0</td>\n",
       "    </tr>\n",
       "    <tr>\n",
       "      <th>1</th>\n",
       "      <td>71.2833</td>\n",
       "      <td>4.280593</td>\n",
       "      <td>2</td>\n",
       "      <td>0</td>\n",
       "    </tr>\n",
       "    <tr>\n",
       "      <th>2</th>\n",
       "      <td>7.9250</td>\n",
       "      <td>2.188856</td>\n",
       "      <td>1</td>\n",
       "      <td>1</td>\n",
       "    </tr>\n",
       "    <tr>\n",
       "      <th>3</th>\n",
       "      <td>53.1000</td>\n",
       "      <td>3.990834</td>\n",
       "      <td>2</td>\n",
       "      <td>0</td>\n",
       "    </tr>\n",
       "    <tr>\n",
       "      <th>4</th>\n",
       "      <td>8.0500</td>\n",
       "      <td>2.202765</td>\n",
       "      <td>1</td>\n",
       "      <td>1</td>\n",
       "    </tr>\n",
       "  </tbody>\n",
       "</table>\n",
       "</div>"
      ],
      "text/plain": [
       "      Fare  Fare_log  FamilySize  IsAlone\n",
       "0   7.2500  2.110213           2        0\n",
       "1  71.2833  4.280593           2        0\n",
       "2   7.9250  2.188856           1        1\n",
       "3  53.1000  3.990834           2        0\n",
       "4   8.0500  2.202765           1        1"
      ]
     },
     "execution_count": 6,
     "metadata": {},
     "output_type": "execute_result"
    }
   ],
   "source": [
    "import numpy as np\n",
    "\n",
    "# 🧪 Aplicar log(1 + Fare) para reducir sesgo\n",
    "df['Fare_log'] = np.log1p(df['Fare'])\n",
    "\n",
    "# 🧬 Crear variable FamilySize\n",
    "df['FamilySize'] = df['SibSp'] + df['Parch'] + 1\n",
    "\n",
    "# 👤 Crear variable IsAlone\n",
    "df['IsAlone'] = (df['FamilySize'] == 1).astype(int)\n",
    "\n",
    "# Verificación\n",
    "df[['Fare', 'Fare_log', 'FamilySize', 'IsAlone']].head()\n"
   ]
  },
  {
   "cell_type": "markdown",
   "id": "c5645603",
   "metadata": {},
   "source": [
    "---\n",
    "\n",
    "## ✅ Transformación y generación de nuevas variables\n",
    "\n",
    "Las siguientes columnas fueron creadas con éxito:\n",
    "\n",
    "| Variable     | Descripción                                                                 |\n",
    "|--------------|------------------------------------------------------------------------------|\n",
    "| `Fare_log`   | Transformación logarítmica de `Fare` usando `log1p`, reduce el sesgo a la derecha |\n",
    "| `FamilySize` | Suma de `SibSp` + `Parch` + 1 (el pasajero), refleja el tamaño del grupo familiar |\n",
    "| `IsAlone`    | Variable binaria: `1` si el pasajero viaja solo, `0` si viaja con familia    |\n",
    "\n",
    "### 🧾 Ejemplo de resultados:\n",
    "\n",
    "| Fare   | Fare_log | FamilySize | IsAlone |\n",
    "|--------|----------|------------|---------|\n",
    "| 7.25   | 2.11     | 2          | 0       |\n",
    "| 71.28  | 4.28     | 2          | 0       |\n",
    "| 7.93   | 2.19     | 1          | 1       |\n",
    "\n",
    "Estas nuevas variables serán utilizadas como parte del conjunto de entrada para los modelos predictivos en el siguiente paso del pipeline.\n",
    "\n",
    "---\n"
   ]
  },
  {
   "cell_type": "markdown",
   "id": "51ae2f1c",
   "metadata": {},
   "source": [
    "---\n",
    "\n",
    "## 🧹 Eliminación de columnas innecesarias y guardado del dataset\n",
    "\n",
    "En este paso se eliminan las columnas que no aportan valor al modelo o que ya fueron transformadas:\n",
    "\n",
    "- `Name`, `Ticket`, `Cabin`: contienen información redundante o poco estructurada.\n",
    "- `Fare`, `SibSp`, `Parch`: fueron reemplazadas por `Fare_log`, `FamilySize` e `IsAlone`.\n",
    "\n",
    "📌 La columna `PassengerId` **se conserva**, ya que será necesaria para construir el archivo `submission.csv`.\n",
    "\n",
    "El dataset limpio será guardado como `train_clean.csv` en la carpeta `data/`.\n",
    "\n",
    "---\n"
   ]
  },
  {
   "cell_type": "code",
   "execution_count": 7,
   "id": "ab2b20e3",
   "metadata": {},
   "outputs": [
    {
     "name": "stdout",
     "output_type": "stream",
     "text": [
      "[INFO] Dataset preprocesado guardado en: ../data/train_clean.csv\n",
      "[INFO] Dimensiones finales: (891, 15)\n"
     ]
    },
    {
     "data": {
      "text/plain": [
       "['PassengerId',\n",
       " 'Survived',\n",
       " 'Pclass',\n",
       " 'Sex',\n",
       " 'Age',\n",
       " 'HasCabin',\n",
       " 'Embarked_Q',\n",
       " 'Embarked_S',\n",
       " 'Title_Miss',\n",
       " 'Title_Mr',\n",
       " 'Title_Mrs',\n",
       " 'Title_Rare',\n",
       " 'Fare_log',\n",
       " 'FamilySize',\n",
       " 'IsAlone']"
      ]
     },
     "execution_count": 7,
     "metadata": {},
     "output_type": "execute_result"
    }
   ],
   "source": [
    "# 🧹 Eliminar columnas innecesarias (se conserva PassengerId para el submission)\n",
    "columnas_a_eliminar = ['Name', 'Ticket', 'Cabin', 'Fare', 'SibSp', 'Parch']\n",
    "df.drop(columns=columnas_a_eliminar, inplace=True)\n",
    "\n",
    "# Guardar el dataset limpio\n",
    "ruta_salida = \"../data/train_clean.csv\"\n",
    "df.to_csv(ruta_salida, index=False)\n",
    "\n",
    "print(f\"[INFO] Dataset preprocesado guardado en: {ruta_salida}\")\n",
    "print(f\"[INFO] Dimensiones finales: {df.shape}\")\n",
    "\n",
    "\n",
    "df.columns.tolist()  # Listar las columnas finales del DataFrame\n",
    "# Mostrar las primeras filas del DataFrame final    "
   ]
  }
 ],
 "metadata": {
  "kernelspec": {
   "display_name": "venv",
   "language": "python",
   "name": "python3"
  },
  "language_info": {
   "codemirror_mode": {
    "name": "ipython",
    "version": 3
   },
   "file_extension": ".py",
   "mimetype": "text/x-python",
   "name": "python",
   "nbconvert_exporter": "python",
   "pygments_lexer": "ipython3",
   "version": "3.11.11"
  }
 },
 "nbformat": 4,
 "nbformat_minor": 5
}
